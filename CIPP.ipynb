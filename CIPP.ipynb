{
  "nbformat": 4,
  "nbformat_minor": 0,
  "metadata": {
    "colab": {
      "name": "CIPP",
      "provenance": [],
      "collapsed_sections": [],
      "authorship_tag": "ABX9TyPe9a+EM1ZZYyR//JB1dMUO",
      "include_colab_link": true
    },
    "kernelspec": {
      "name": "python3",
      "display_name": "Python 3"
    },
    "language_info": {
      "name": "python"
    }
  },
  "cells": [
    {
      "cell_type": "markdown",
      "metadata": {
        "id": "view-in-github",
        "colab_type": "text"
      },
      "source": [
        "<a href=\"https://colab.research.google.com/github/CaiqueBarrreto/agroci/blob/main/CIPP.ipynb\" target=\"_parent\"><img src=\"https://colab.research.google.com/assets/colab-badge.svg\" alt=\"Open In Colab\"/></a>"
      ]
    },
    {
      "cell_type": "code",
      "metadata": {
        "colab": {
          "base_uri": "https://localhost:8080/"
        },
        "id": "wqPmj8jAuTiW",
        "outputId": "c451e558-758e-4ca2-85d9-6396a27f9204"
      },
      "source": [
        "import pandas as pd\n",
        "\n",
        "tabela = pd.read_csv(\"https://raw.githubusercontent.com/CaiqueBarrreto/agroci/main/Product_table_PVA.csv\")\n",
        "tabela\n",
        "\n",
        "import numpy as np\n",
        "\n",
        "from sklearn.model_selection import train_test_split\n",
        "y = tabela[\"Real\"]\n",
        "x = tabela[\"Panjiva\"]\n",
        "x = np.array(x).reshape(-1,1)\n",
        "y = np.array(y).reshape(-1,1)\n",
        "\n",
        "\n",
        "x_treino, x_teste, y_treino, y_teste = train_test_split(x,y, test_size=0.3, random_state=1)\n",
        "\n",
        "from sklearn.linear_model import LinearRegression\n",
        "from sklearn.ensemble import RandomForestRegressor\n",
        "\n",
        "modelo_regressaolinear = LinearRegression()\n",
        "modelo_arvorededecisao = RandomForestRegressor()\n",
        "\n",
        "modelo_regressaolinear.fit(x_treino, y_treino)\n",
        "\n",
        "\n",
        "\n"
      ],
      "execution_count": null,
      "outputs": [
        {
          "output_type": "execute_result",
          "data": {
            "text/plain": [
              "LinearRegression()"
            ]
          },
          "metadata": {},
          "execution_count": 1
        }
      ]
    },
    {
      "cell_type": "code",
      "metadata": {
        "colab": {
          "base_uri": "https://localhost:8080/"
        },
        "id": "DP5VMbJpSgRw",
        "outputId": "db64c6ad-c814-419e-e4af-4ff6c2ab7e73"
      },
      "source": [
        "print(modelo_regressaolinear.intercept_)\n",
        "print(modelo_regressaolinear.coef_)"
      ],
      "execution_count": null,
      "outputs": [
        {
          "output_type": "stream",
          "name": "stdout",
          "text": [
            "[0.66389398]\n",
            "[[0.31589003]]\n"
          ]
        }
      ]
    },
    {
      "cell_type": "code",
      "metadata": {
        "colab": {
          "base_uri": "https://localhost:8080/",
          "height": 235
        },
        "id": "7I-RD6XVHSBW",
        "outputId": "b7bbf7ef-7051-4e23-8a50-fbfd23bc31c5"
      },
      "source": [
        "y_pred = modelo_regressaolinear.predict(x_teste)\n",
        "\n",
        "df = pd.DataFrame({'Actual': x_teste.flatten(), 'Predicted': y_pred.flatten()})\n",
        "df"
      ],
      "execution_count": null,
      "outputs": [
        {
          "output_type": "execute_result",
          "data": {
            "text/html": [
              "<div>\n",
              "<style scoped>\n",
              "    .dataframe tbody tr th:only-of-type {\n",
              "        vertical-align: middle;\n",
              "    }\n",
              "\n",
              "    .dataframe tbody tr th {\n",
              "        vertical-align: top;\n",
              "    }\n",
              "\n",
              "    .dataframe thead th {\n",
              "        text-align: right;\n",
              "    }\n",
              "</style>\n",
              "<table border=\"1\" class=\"dataframe\">\n",
              "  <thead>\n",
              "    <tr style=\"text-align: right;\">\n",
              "      <th></th>\n",
              "      <th>Actual</th>\n",
              "      <th>Predicted</th>\n",
              "    </tr>\n",
              "  </thead>\n",
              "  <tbody>\n",
              "    <tr>\n",
              "      <th>0</th>\n",
              "      <td>1.725689</td>\n",
              "      <td>1.471675</td>\n",
              "    </tr>\n",
              "    <tr>\n",
              "      <th>1</th>\n",
              "      <td>1.728001</td>\n",
              "      <td>1.472959</td>\n",
              "    </tr>\n",
              "    <tr>\n",
              "      <th>2</th>\n",
              "      <td>1.671323</td>\n",
              "      <td>1.441463</td>\n",
              "    </tr>\n",
              "    <tr>\n",
              "      <th>3</th>\n",
              "      <td>1.778893</td>\n",
              "      <td>1.501240</td>\n",
              "    </tr>\n",
              "    <tr>\n",
              "      <th>4</th>\n",
              "      <td>1.663076</td>\n",
              "      <td>1.436880</td>\n",
              "    </tr>\n",
              "    <tr>\n",
              "      <th>5</th>\n",
              "      <td>1.792743</td>\n",
              "      <td>1.508937</td>\n",
              "    </tr>\n",
              "  </tbody>\n",
              "</table>\n",
              "</div>"
            ],
            "text/plain": [
              "     Actual  Predicted\n",
              "0  1.725689   1.471675\n",
              "1  1.728001   1.472959\n",
              "2  1.671323   1.441463\n",
              "3  1.778893   1.501240\n",
              "4  1.663076   1.436880\n",
              "5  1.792743   1.508937"
            ]
          },
          "metadata": {
            "tags": []
          },
          "execution_count": 19
        }
      ]
    },
    {
      "cell_type": "code",
      "metadata": {
        "colab": {
          "base_uri": "https://localhost:8080/",
          "height": 17
        },
        "id": "dybDnlHH5GeK",
        "outputId": "8c555545-2e02-449d-f09a-87573dddb0c5"
      },
      "source": [
        "tabela_2 = pd.read_csv(\"https://raw.githubusercontent.com/CaiqueBarrreto/agroci/main/DP.AC.csv\")\n",
        "tabela_2.drop('DOTP Prices', inplace = True, axis = 1)\n",
        "\n",
        "tabela_2 = tabela_2[tabela_2['ATBC Prices'].notna()]\n",
        "\n",
        "\n",
        "x2 = tabela_2['ATBC Prices']\n",
        "x2 = x = np.array(x2).reshape(-1,1)\n",
        "\n",
        "y_pred2 = modelo_regressaolinear.predict(x2)\n",
        "\n",
        "df2 = pd.DataFrame({'Actual': x2.flatten(), 'Predicted': y_pred2.flatten()})\n",
        "\n",
        "pricecolumn = np.savetxt('PriceFile.csv', df2, delimiter = ';', fmt = '%s')\n",
        "\n",
        "from google.colab import files\n",
        "\n",
        "files.download('PriceFile.csv')\n",
        "\n"
      ],
      "execution_count": null,
      "outputs": [
        {
          "output_type": "display_data",
          "data": {
            "application/javascript": [
              "\n",
              "    async function download(id, filename, size) {\n",
              "      if (!google.colab.kernel.accessAllowed) {\n",
              "        return;\n",
              "      }\n",
              "      const div = document.createElement('div');\n",
              "      const label = document.createElement('label');\n",
              "      label.textContent = `Downloading \"${filename}\": `;\n",
              "      div.appendChild(label);\n",
              "      const progress = document.createElement('progress');\n",
              "      progress.max = size;\n",
              "      div.appendChild(progress);\n",
              "      document.body.appendChild(div);\n",
              "\n",
              "      const buffers = [];\n",
              "      let downloaded = 0;\n",
              "\n",
              "      const channel = await google.colab.kernel.comms.open(id);\n",
              "      // Send a message to notify the kernel that we're ready.\n",
              "      channel.send({})\n",
              "\n",
              "      for await (const message of channel.messages) {\n",
              "        // Send a message to notify the kernel that we're ready.\n",
              "        channel.send({})\n",
              "        if (message.buffers) {\n",
              "          for (const buffer of message.buffers) {\n",
              "            buffers.push(buffer);\n",
              "            downloaded += buffer.byteLength;\n",
              "            progress.value = downloaded;\n",
              "          }\n",
              "        }\n",
              "      }\n",
              "      const blob = new Blob(buffers, {type: 'application/binary'});\n",
              "      const a = document.createElement('a');\n",
              "      a.href = window.URL.createObjectURL(blob);\n",
              "      a.download = filename;\n",
              "      div.appendChild(a);\n",
              "      a.click();\n",
              "      div.remove();\n",
              "    }\n",
              "  "
            ],
            "text/plain": [
              "<IPython.core.display.Javascript object>"
            ]
          },
          "metadata": {
            "tags": []
          }
        },
        {
          "output_type": "display_data",
          "data": {
            "application/javascript": [
              "download(\"download_9d519409-6b17-4edb-88d3-12c62cc6d5df\", \"PriceFile.csv\", 16119)"
            ],
            "text/plain": [
              "<IPython.core.display.Javascript object>"
            ]
          },
          "metadata": {
            "tags": []
          }
        }
      ]
    },
    {
      "cell_type": "code",
      "metadata": {
        "id": "Bacoy1A42MX3"
      },
      "source": [
        ""
      ],
      "execution_count": null,
      "outputs": []
    }
  ]
}