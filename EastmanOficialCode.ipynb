{
  "nbformat": 4,
  "nbformat_minor": 0,
  "metadata": {
    "colab": {
      "name": "EastmanOficialCode.ipynb",
      "provenance": [],
      "collapsed_sections": [],
      "authorship_tag": "ABX9TyOoxv3wpfkftF4RYPphGCU8",
      "include_colab_link": true
    },
    "kernelspec": {
      "name": "python3",
      "display_name": "Python 3"
    }
  },
  "cells": [
    {
      "cell_type": "markdown",
      "metadata": {
        "id": "view-in-github",
        "colab_type": "text"
      },
      "source": [
        "<a href=\"https://colab.research.google.com/github/CaiqueBarrreto/agroci/blob/main/EastmanOficialCode.ipynb\" target=\"_parent\"><img src=\"https://colab.research.google.com/assets/colab-badge.svg\" alt=\"Open In Colab\"/></a>"
      ]
    },
    {
      "cell_type": "code",
      "metadata": {
        "colab": {
          "base_uri": "https://localhost:8080/",
          "height": 17
        },
        "id": "LZmzgzswF1hF",
        "outputId": "7d25a651-a636-4fb6-d915-bc36619eb59b"
      },
      "source": [
        "import pandas as pd\n",
        "import numpy as np\n",
        "import re\n",
        "\n",
        "\n",
        "#INSTRUÇÕES PARA ATUALIZAÇÃO TRIMESTRAL:\n",
        "#1. Faça o download da base por empresas no Panjiva.\n",
        "#2. Seleciona a coluna \"Goods Shipped\" e crie um .csv com ela\n",
        "#3. Faça o upload no GitHub e gere o link para adicionar aqui\n",
        "#4. Rode o código, baixe a planilha gerada e use o conversor do excel.\n",
        "\n",
        "\n",
        "\n",
        "database_goodshipped = pd.read_csv(\"https://raw.githubusercontent.com/CaiqueBarrreto/agroci/main/goods-shipped-AGRO-MAIO.22.csv\")\n",
        "database_goodshipped['variavel_resposta'] = np.where(database_goodshipped['Goods Shipped'].str.contains('2,4-D|4-D ACID|2 4 D ACID|DICHLOROPHENOXYACETIC ACID|2,4-DICHLOROPHENOXYACETIC ACID|2,4|2,4 D|2, 4 D|2, 4 - D'), '2,4 Dichlorophenoxyacetic Acid',\n",
        "                                            np.where(database_goodshipped['Goods Shipped'].str.contains('CARBENDAZIM|Carbendazim'), 'Carbendazim',\n",
        "                                            np.where(database_goodshipped['Goods Shipped'].str.contains('FLUTRIAFOL|Flutriafol'), 'Flutriafol',\n",
        "                                            np.where(database_goodshipped['Goods Shipped'].str.contains('GALIGAN'), 'Oxyfluorfen',\n",
        "                                            np.where(database_goodshipped['Goods Shipped'].str.contains('IMIDACLOPRIDE|IMIDACLOPRID|GALIL|Imidacloprid'), 'Imidacloprid',\n",
        "                                            np.where(database_goodshipped['Goods Shipped'].str.contains('DIMETHYLAMINE|DIMETILAMINA|Dimethylamine|DIMETHYLMINE'), 'Dimethylamine',\n",
        "                                            np.where(database_goodshipped['Goods Shipped'].str.contains('MANCOZEB|MANZATE|MANFIL|UNIZEB|Mancozeb'), 'Mancozeb',\n",
        "                                            np.where(database_goodshipped['Goods Shipped'].str.contains('GLYPHOSATE|GLIFOSATO|Glyphosate'), 'Glyphosate',\n",
        "                                            np.where(database_goodshipped['Goods Shipped'].str.contains('TEBUTHIURON|TEBUTIURONT|TEBUTIURON|BUTIRON|Tebuthiuron'), 'Tebuthiuron',\n",
        "                                            np.where(database_goodshipped['Goods Shipped'].str.contains('TEBUCONAZOLE|TEBUCONAZOL|Tebuconazole'), 'Tebuconazole',\n",
        "                                            np.where(database_goodshipped['Goods Shipped'].str.contains('BIFENTRINA|BIFENTHRIN|Bifenthrin|SPERTO'), 'Bifenthrin',\n",
        "                                            np.where(database_goodshipped['Goods Shipped'].str.contains('Profenofos|PROFENOFOS|CURYOM'), 'Profenofos',\n",
        "                                            np.where(database_goodshipped['Goods Shipped'].str.contains('DIMEXION|Dimethoate|DIMETHOATE|DIMETOATO'), 'Dimethoate',\n",
        "                                            np.where(database_goodshipped['Goods Shipped'].str.contains('CARBAMATE|Carbamate'), 'Carbamate',\n",
        "                                            np.where(database_goodshipped['Goods Shipped'].str.contains('DIAFENTHIURON|Diafenthiuron'), 'Diafenthiuron',\n",
        "                                            np.where(database_goodshipped['Goods Shipped'].str.contains('METALAXYL|Metalaxyl'), 'Metalaxyl',\n",
        "                                            np.where(database_goodshipped['Goods Shipped'].str.contains('CYPERMETHRIN|Cypermethrin|CIPERMETRINA|CIPERMETRIN'), 'Cypermethrin',\n",
        "                                            np.where(database_goodshipped['Goods Shipped'].str.contains('DIUREX|KARMEX|JUMP|DIURON|HEXARON'), 'Diuron',\n",
        "                                            np.where(database_goodshipped['Goods Shipped'].str.contains('MONOISOPROPYLAMINE|ISOPROPILAMINA|MONOISOPROPILAMINA|ISOPROPYLAMINE'), 'Isopropylamine',\n",
        "                                            np.where(database_goodshipped['Goods Shipped'].str.contains('FOLPET|Folpet'), 'Folpet',\n",
        "                                            np.where(database_goodshipped['Goods Shipped'].str.contains('RIMON|NOVALURON|Novaluron'), 'Novaluron',\n",
        "                                            np.where(database_goodshipped['Goods Shipped'].str.contains('PYRINEX|CHLORPYRIFOS|CLORPIRIFOS|Chlorpyrifos'), 'Chlorpyrifos',\n",
        "                                            np.where(database_goodshipped['Goods Shipped'].str.contains('CAPTANA|CAPTAN|Captan'), 'Captan',\n",
        "                                            np.where(database_goodshipped['Goods Shipped'].str.contains('AFALON'), 'Linuron',\n",
        "                                            np.where(database_goodshipped['Goods Shipped'].str.contains('DIMETHYLACETAMIDE|DIMETILACETAMIDA'), 'Dimethylacetamide',\n",
        "                                            np.where(database_goodshipped['Goods Shipped'].str.contains('SUPRATHION|METHIDATHION|Methidathion'), 'Methidathion',\n",
        "                                            np.where(database_goodshipped['Goods Shipped'].str.contains('FIPRONIL|Fipronil'), 'Fipronil',\n",
        "                                            np.where(database_goodshipped['Goods Shipped'].str.contains('CHLOROTHALONIL|Chlorothalonil|CLOROTALONIL'), 'Chlorothalonil',\n",
        "                                            np.where(database_goodshipped['Goods Shipped'].str.contains('NIMITZ|FLUENSULFONE|LUENSULFONE'), 'Fluensulfone',\n",
        "                                            np.where(database_goodshipped['Goods Shipped'].str.contains('Paclobutrazol|PACLOBUTRAZOL'), 'Paclobutrazol',\n",
        "                                            np.where(database_goodshipped['Goods Shipped'].str.contains('MONOMETILFORMAMIDA'), 'Monomethylformamide',\n",
        "                                            np.where(database_goodshipped['Goods Shipped'].str.contains('TRIVOR|PYRIPROXYFEN|Pyriproxyfen'), 'Pyriproxyfen',\n",
        "                                            np.where(database_goodshipped['Goods Shipped'].str.contains('XYSTROBIN|AZOXYSTROBI|AZOXYSTROBIN|AZOXYSTROBINA|AMISTAR|Azoxystrobin'), 'Azoxystrobin',\n",
        "                                            np.where(database_goodshipped['Goods Shipped'].str.contains('Oxirane|Oxiran'), 'Oxirane',\n",
        "                                            np.where(database_goodshipped['Goods Shipped'].str.contains('PARAQUAT|Paraquat'), 'Paraquat',\n",
        "                                            np.where(database_goodshipped['Goods Shipped'].str.contains('PATROL|LAMBDACYHALOTHRIN|LAMBDA-CYHALOTHRIN|LAMBDA -CYHALOTHRIN|LAMBDA CYHALOTHRIN|Cyhalothrin|LAMBDA|CYHALOTHRIN'), 'Cyhalothrin',\n",
        "                                            np.where(database_goodshipped['Goods Shipped'].str.contains('ACEPHATE|ACEFATO|CAPTUS|Acephate'), 'Acephate',\n",
        "                                            np.where(database_goodshipped['Goods Shipped'].str.contains('PICOXYSTROBIN|Picoxystrobin'), 'Picoxystrobin',\n",
        "                                            np.where(database_goodshipped['Goods Shipped'].str.contains('PROPICONAZOLE|Propiconazole'), 'Propiconazole',\n",
        "                                            np.where(database_goodshipped['Goods Shipped'].str.contains('ATRAZINE|Atrazine|ATRAZINA'), 'Atrazine',\n",
        "                                            np.where(database_goodshipped['Goods Shipped'].str.contains('AMETRINA|AMETRYN|Ametryn'), 'Ametryn',\n",
        "                                            np.where(database_goodshipped['Goods Shipped'].str.contains('ACIDO TECNICO|Glyphosate'), 'Glyphosate',\n",
        "                                            np.where(database_goodshipped['Goods Shipped'].str.contains('ABAMECTIN|ABAMECTINA|Abamectin'), 'Abamectin',\n",
        "                                            np.where(database_goodshipped['Goods Shipped'].str.contains('METHOMYL|METHOMEX|Methomyl'), 'Methomyl',\n",
        "                                            np.where(database_goodshipped['Goods Shipped'].str.contains('ACETAMIPRID|BATTUS|Acetamiprid'), 'Acetamiprid',\n",
        "                                            np.where(database_goodshipped['Goods Shipped'].str.contains('PICLORAM|picloram'), 'Picloram',\n",
        "                                            np.where(database_goodshipped['Goods Shipped'].str.contains('TRIAZOLE|TRIAZOL|Triazole'), 'Triazole',\n",
        "                                            np.where(database_goodshipped['Goods Shipped'].str.contains('POQUER|CLETHODIM|CLETODIM|Clethodim'), 'Clethodim',\n",
        "                                            np.where(database_goodshipped['Goods Shipped'].str.contains('HALOXYFOP|Haloxyfop'), 'Haloxyfop Methyl',\n",
        "                                            np.where(database_goodshipped['Goods Shipped'].str.contains('K-FLEX|DPGDB|K FLEX|DIBENZOATEPLASTICIZER|PLASTICIZER'), 'DPGDB',\n",
        "                                            np.where(database_goodshipped['Goods Shipped'].str.contains('DIPROPYLAMINE'), 'Dipropylamine',\n",
        "                                            np.where(database_goodshipped['Goods Shipped'].str.contains('MEPIQUAT|Mepiquat'), 'Mepiquat',\n",
        "                                            np.where(database_goodshipped['Goods Shipped'].str.contains('THIAMETHOXAM|THIAMET|Thiamethoxam|ACTARA'), 'Thiamethoxam',\n",
        "                                            np.where(database_goodshipped['Goods Shipped'].str.contains('TRIFLOXYSTROBIN|Trifloxystrobin'), 'Trixfloxystrobin',\n",
        "                                            np.where(database_goodshipped['Goods Shipped'].str.contains('FLUROXYPIR|Fluroxypir|STARANE'), 'Fluroxypir',\n",
        "                                            np.where(database_goodshipped['Goods Shipped'].str.contains('DIQUAT|Diquat'), 'Diquat',\n",
        "                                            np.where(database_goodshipped['Goods Shipped'].str.contains('ANCOSAR'), 'Monosodium Methyl Arsenate',\n",
        "                                            np.where(database_goodshipped['Goods Shipped'].str.contains('EPOXICONAZOLE|Epoxiconazole'), 'Epoxiconazole',\n",
        "                                            np.where(database_goodshipped['Goods Shipped'].str.contains('METHOLACHLOR|Metolachlor'), 'Metholachlor',\n",
        "                                            np.where(database_goodshipped['Goods Shipped'].str.contains('CYPROCONAZOLE|Cyproconazol|Cyproconazole|CYPROCONAZOL'), 'Cyproconazole',\n",
        "                                            np.where(database_goodshipped['Goods Shipped'].str.contains('CLOTHIANIDIN|Clothianidin'), 'Clothianidin',\n",
        "                                            np.where(database_goodshipped['Goods Shipped'].str.contains('IMAZETAPYR|IMAZETAPIR|IMAZETHAPYR|Imazetapyr'), 'Imazetapyr',\n",
        "                                            np.where(database_goodshipped['Goods Shipped'].str.contains('TRIC LOPYR|TRICLOPYR|Tryclopir'), 'Triclopyr',\n",
        "                                            np.where(database_goodshipped['Goods Shipped'].str.contains('MALATHION|Malathion'), 'Malathion',\n",
        "                                            np.where(database_goodshipped['Goods Shipped'].str.contains('THIODICARB|Thiodicarb'), 'Thiodicarb',\n",
        "                                            np.where(database_goodshipped['Goods Shipped'].str.contains('CLOMAZONE|CLOMAZONA|REATOR|GAMIT|Clomazone'), 'Clomazone',\n",
        "                                            np.where(database_goodshipped['Goods Shipped'].str.contains('ETHYLENEDIAMINE'), 'Ethylenediamine',\n",
        "                                            np.where(database_goodshipped['Goods Shipped'].str.contains('ANTRACOL|PROPINEB|Propineb'), 'Propineb',\n",
        "                                            np.where(database_goodshipped['Goods Shipped'].str.contains('PROTHIOCONAZOLE|Prothiononazole'), 'Prothioconazole',\n",
        "                                            np.where(database_goodshipped['Goods Shipped'].str.contains('METSULFURON|Metsulfuron'), 'Metsulfuron',\n",
        "                                            np.where(database_goodshipped['Goods Shipped'].str.contains('CHLORIMURON|CLORIMURON|Chlorimuron'), 'Chlorimuron',\n",
        "                                            np.where(database_goodshipped['Goods Shipped'].str.contains('ZETACYPERMETHRIN'), 'Zetacypermethrin',\n",
        "                                            np.where(database_goodshipped['Goods Shipped'].str.contains('TRIISOPROPYLAMINE'), 'Triisopropylamine',\n",
        "                                            np.where(database_goodshipped['Goods Shipped'].str.contains('DIFECONAZOLE|Difeconazole'), 'Difeconazole',\n",
        "                                            np.where(database_goodshipped['Goods Shipped'].str.contains('Sulfentrazone'), 'Sulfentrazone',\n",
        "                                            np.where(database_goodshipped['Goods Shipped'].str.contains('DIFLUBENZURON|Diflubenzuron'), 'Diflubenzuron',\n",
        "                                            np.where(database_goodshipped['Goods Shipped'].str.contains('METRIBUZIN|Metribuzin'), 'Metribuzin',\n",
        "                                            np.where(database_goodshipped['Goods Shipped'].str.contains('INDOXACARB|Indoxacarb'), 'Indoxacarb',\n",
        "                                            np.where(database_goodshipped['Goods Shipped'].str.contains('FOMESAFEN|Fomesafen'), 'Fomesafen',\n",
        "                                            np.where(database_goodshipped['Goods Shipped'].str.contains('SULFOXAFLOR'), 'Sulfoxaflor',\n",
        "                                            np.where(database_goodshipped['Goods Shipped'].str.contains('FENOXAPROP-P-ETIL'), 'Fenoxaprop-p-Ethyl',\n",
        "                                            np.where(database_goodshipped['Goods Shipped'].str.contains('DEFEND|MICROTHIOL'), 'Sulfur',\n",
        "                                            np.where(database_goodshipped['Goods Shipped'].str.contains('THIABENDAZOLE|Thiabendazole'), 'Thiabendazole',\n",
        "                                            np.where(database_goodshipped['Goods Shipped'].str.contains('CHLORANTRANILIPROLE|PREMIO|Chlorantraniliprole'), 'Chlorantraniliprole',\n",
        "                                            np.where(database_goodshipped['Goods Shipped'].str.contains('LUFENURON'), 'Lufenuron',\n",
        "                                            np.where(database_goodshipped['Goods Shipped'].str.contains('PROVENCE|Isoxaflutole|ISOXAFLUTOLE'), 'Isoxaflutole', 'Not Identified'))))))))))))))))))))))))))))))))))))))))))))))))))))))))))))))))))))))))))))))))))))))\n",
        "                                                                  \n",
        "\n",
        "b = np.savetxt('file.csv', database_goodshipped, delimiter=';', fmt='%s')\n",
        "from google.colab import files\n",
        "\n",
        "files.download('file.csv')"
      ],
      "execution_count": null,
      "outputs": [
        {
          "output_type": "display_data",
          "data": {
            "text/plain": [
              "<IPython.core.display.Javascript object>"
            ],
            "application/javascript": [
              "\n",
              "    async function download(id, filename, size) {\n",
              "      if (!google.colab.kernel.accessAllowed) {\n",
              "        return;\n",
              "      }\n",
              "      const div = document.createElement('div');\n",
              "      const label = document.createElement('label');\n",
              "      label.textContent = `Downloading \"${filename}\": `;\n",
              "      div.appendChild(label);\n",
              "      const progress = document.createElement('progress');\n",
              "      progress.max = size;\n",
              "      div.appendChild(progress);\n",
              "      document.body.appendChild(div);\n",
              "\n",
              "      const buffers = [];\n",
              "      let downloaded = 0;\n",
              "\n",
              "      const channel = await google.colab.kernel.comms.open(id);\n",
              "      // Send a message to notify the kernel that we're ready.\n",
              "      channel.send({})\n",
              "\n",
              "      for await (const message of channel.messages) {\n",
              "        // Send a message to notify the kernel that we're ready.\n",
              "        channel.send({})\n",
              "        if (message.buffers) {\n",
              "          for (const buffer of message.buffers) {\n",
              "            buffers.push(buffer);\n",
              "            downloaded += buffer.byteLength;\n",
              "            progress.value = downloaded;\n",
              "          }\n",
              "        }\n",
              "      }\n",
              "      const blob = new Blob(buffers, {type: 'application/binary'});\n",
              "      const a = document.createElement('a');\n",
              "      a.href = window.URL.createObjectURL(blob);\n",
              "      a.download = filename;\n",
              "      div.appendChild(a);\n",
              "      a.click();\n",
              "      div.remove();\n",
              "    }\n",
              "  "
            ]
          },
          "metadata": {}
        },
        {
          "output_type": "display_data",
          "data": {
            "text/plain": [
              "<IPython.core.display.Javascript object>"
            ],
            "application/javascript": [
              "download(\"download_132f3dc6-2761-48fc-a208-8d2a89a27562\", \"file.csv\", 207323)"
            ]
          },
          "metadata": {}
        }
      ]
    }
  ]
}